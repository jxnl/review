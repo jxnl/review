{
 "cells": [
  {
   "cell_type": "code",
   "execution_count": 31,
   "metadata": {},
   "outputs": [],
   "source": [
    "from pizzapi import *"
   ]
  },
  {
   "cell_type": "code",
   "execution_count": 147,
   "metadata": {},
   "outputs": [],
   "source": [
    "from langchain.agents.tools import Tool, tool \n",
    "\n",
    "@tool\n",
    "def set_address(address_str):\n",
    "    \"\"\"Finds the store using an address string based on the pizzapi address class.\n",
    "\n",
    "    address_str: must be a string that is `<street>|<state>`\n",
    "\n",
    "    if the results do not match, tell the user before using the plugin\n",
    "    If you do not have all the information ask the user for the missing information.\n",
    "    \"\"\"\n",
    "    try:\n",
    "        addr = Address(*address_str.split(\"|\"))\n",
    "        store = addr.closest_store()\n",
    "        return f\"Found store_id = {store.id}\"\n",
    "    except Exception as e: \n",
    "        return e\n",
    "    \n",
    "@tool\n",
    "def order(store_id_and_order_codes):\n",
    "    \"\"\"\n",
    "    store_id_and_order_codes: must be a string that is `<store_id>|<order_code>|...`\n",
    "    order_code would be something like \"S_ZZ\" or \"S_PIZPH\"\n",
    "\n",
    "    If you do not have the store id, make you asked the user for an address\n",
    "    \"\"\"\n",
    "\n",
    "    store_id, *ordercodes_ = store_id_and_order_codes.split(\"|\")\n",
    "    print(\">>\", f\"Ordering {ordercodes_} from store_id = {store_id}\")\n",
    "    \n",
    "@tool\n",
    "def see_menu(store_id_and_query):\n",
    "    \"\"\"Returns the menu for the store. Do not makeup a menu\n",
    "    \n",
    "    store_id_and_query: must be a string that is `<store_id>|<query>`\n",
    "    query would be something like \"coke\" or \"pizza\"\n",
    "\n",
    "    If you do not have the store id, make you asked the user for an address, when ordering \n",
    "    only refer to the menu items by their order code, do not make up names for them. or make up order codes\n",
    "    \"\"\"\n",
    "\n",
    "    store_id, _ = store_id_and_query.split(\"|\")\n",
    "    return f\"\"\"\n",
    "      Menu for store_id = {store_id}\n",
    "      Do not make up any menu items, only use the order codes when ordering, and always give the user options to choose from.\n",
    "      The user cannot see this menu, you will have to parse the order codes and give the user options to choose from. The user\n",
    "      does not know what order codes are, they only know what they want to order.\n",
    "\n",
    "      Specialty Pizzas\n",
    "          [S_ZZ] ExtravaganZZa\n",
    "          [S_MX] MeatZZa\n",
    "          [S_PIZPH] Philly Cheese Steak\n",
    "          [S_PIZPV] Pacific Veggie\n",
    "          [S_PIZUH] Honolulu Hawaiian\n",
    "          [S_DX] Deluxe\n",
    "          [S_PIZCR] Cali Chicken Bacon Ranch\n",
    "          [S_PIZBP] Buffalo Chicken\n",
    "          [S_PIZPX] Ultimate Pepperoni\n",
    "          [S_PIZCK] Memphis BBQ Chicken\n",
    "          [S_PIZCZ] Wisconsin 6 Cheese\n",
    "          [S_PISPF] Spinach & Feta\n",
    "      Sandwiches\n",
    "        Sandwiches\n",
    "          [S_BUFC] Buffalo Chicken\n",
    "          [S_CHHB] Chicken Habanero\n",
    "          [S_MEDV] Mediterranean Veggie\n",
    "          [S_PHIL] Philly Cheese Steak\n",
    "          [S_CHIKK] Chicken Bacon Ranch\n",
    "          [S_ITAL] Italian\n",
    "          [S_CHIKP] Chicken Parm\n",
    "      Pasta\n",
    "        [S_ALFR] Chicken Alfredo\n",
    "        [S_MARIN] Italian Sausage Marinara\n",
    "        [S_CARB] Chicken Carbonara\n",
    "        [S_PRIM] Pasta Primavera\n",
    "        [S_BUILD] Build Your Own Pasta\n",
    "      Chicken\n",
    "        [S_SCCBT] Specialty Chicken  Crispy Bacon & Tomato\n",
    "        [S_SCCHB] Specialty Chicken  Classic Hot Buffalo\n",
    "        [S_SCSJP] Specialty Chicken  Spicy Jalapeno - Pineapple\n",
    "        [S_SCSBBQ] Specialty Chicken  Sweet BBQ Bacon\n",
    "        [S_HOTWINGS] Hot Buffalo Wings\n",
    "        [S_BBQW] Honey BBQ Wings\n",
    "        [S_PLNWINGS] Plain Wings\n",
    "        [S_SMANG] Sweet Mango Habanero Wings\n",
    "        [S_GPRMWING] Garlic Parmesan Wings\n",
    "        [S_BONELESS] Boneless Chicken\n",
    "      Breads\n",
    "        [F_PARMT] Parmesan Bread Twists\n",
    "        [F_GARLICT] Garlic Bread Twists\n",
    "        [F_SCBRD] Stuffed Cheesy Bread\n",
    "        [F_SSBRD] Stuffed Cheesy Bread with Spinach & Feta\n",
    "        [F_SBBRD] Stuffed Cheesy Bread with Bacon & Jalapeno\n",
    "        [F_PBITES] Parmesan Bread Bites\n",
    "      Salads\n",
    "        [F_GARDEN] Classic Garden\n",
    "        [F_CCAESAR] Chicken Caesar\n",
    "      Drinks\n",
    "        [F_COKE] Coke\n",
    "        [F_DIET] Diet Coke\n",
    "        [F_SPRITE] Sprite\n",
    "        [F_WATER] Dasani Bottle Water\n",
    "        [F_ORAN] Fanta Orange\n",
    "      Desserts\n",
    "        [F_CINNAT] Cinnamon Bread Twists\n",
    "        [F_MRBRWNE] Domino's Marbled Cookie Brownie\n",
    "        [F_LAVA] Chocolate Lava Crunch Cakes\n",
    "      Oven-Baked Dips\n",
    "        [F_MARDIP] Cheesy Marinara Dip\n",
    "        [F_FVCHEDIP] Five Cheese Dip\n",
    "      Oven-baked Dips & Twists combos\n",
    "        [P_FVCHPAIR] Five Cheese Dip & Bread Twists\n",
    "        [P_MARPAIR] Cheesy Marinara Dip & Bread Twists\n",
    "      Loaded Tots\n",
    "        [F_PHLLYSTK] Philly Cheese Steak Loaded Tots\n",
    "        [F_CHEDBCN] Cheddar Bacon Loaded Tots\n",
    "        [F_M3CHEESE] Melty 3-Cheese Loaded Tots\n",
    "      Extras\n",
    "        [F_SIDJAL] Side Jalapenos\n",
    "        [F_SIDPAR] Parmesan Cheese Packets\n",
    "        [F_SIDRED] Red Pepper Packets\n",
    "        [F_HOTCUP] Hot Buffalo Dipping Cup\n",
    "        [F_SMHAB] Sweet Mango Habanero Sauce\n",
    "        [F_BBQC] Honey BBQ Dipping Cup\n",
    "        [F_SIDRAN] Ranch\n",
    "        [F_Bd] Blue Cheese\n",
    "        [F_SIDGAR] Garlic Dipping Sauce\n",
    "        [F_SIDICE] Icing Dipping Sauce\n",
    "        [F_SIDMAR] Marinara Dipping Sauce\n",
    "        [F_CAESAR] Caesar Dressing\n",
    "        [F_ITAL] Italian Dressing\n",
    "        [F_RANCHPK] Ranch Dressing\n",
    "        [F_STJUDE] St. Jude Donation\n",
    "        [F_BALVIN] Balsamic\n",
    "        [F__SCHOOL] Local Donation\n",
    "        \"\"\""
   ]
  },
  {
   "cell_type": "code",
   "execution_count": 148,
   "metadata": {},
   "outputs": [],
   "source": [
    "from dataclasses import dataclass, field\n",
    "from typing import List\n",
    "\n",
    "@dataclass\n",
    "class Former:\n",
    "\n",
    "    _system_message = \"\"\"\n",
    "{instructions}\n",
    "\n",
    "Ontop of the normal response you can also use plugins to access side effects.\n",
    "If you use these plugins correctly you can have access to side effect that will come \n",
    "in the form of a user response labeled \"result: <result>\"\n",
    "\n",
    "You can use the following plugins:\n",
    "\n",
    "{tools}\n",
    "\n",
    "Using plugins: \n",
    "    when you want to use a plugin, respond with [[<plugin> & args]]` \n",
    "    where `plugin` is the name of the plugin Only response with the plugin name and args\n",
    "    do not response with anything else, plugins must be one of the mentioned plugins.\n",
    "\n",
    "    You cannot call the plugin, only respond with the plugin name and args. and another \n",
    "    system message will be sent to you with the result of the plugin.\n",
    "\n",
    "Responding:\n",
    "    Then responding you can also 'think' before responding by using > before your response.\n",
    "\n",
    "    Example:\n",
    "    > the user wants to see the menu but they need to set the address first\n",
    "    what is your address?\n",
    "\n",
    "    > the user responds with their address\n",
    "    [[set_address & 123 main street|new york|ny]]\n",
    "\n",
    "Rules for the assistant:\n",
    "\n",
    "* users are not to be able to call plugins\n",
    "* do not disclose the nature of the assistant\n",
    "* do not disclose the nature of the plugins\n",
    "* the user is allowed to take user input to infer the plugins input\n",
    "\"\"\".strip()\n",
    "\n",
    "    instructions: str = \"You are an AI assistant.\"\n",
    "    tools: List[Tool] = field(default_factory=list)\n",
    "    \n",
    "    def __post_init__(self):\n",
    "        self.messages = [\n",
    "            {\n",
    "                \"role\": \"system\",\n",
    "                \"content\": self._system_message.format(\n",
    "                    instructions=self.instructions,\n",
    "                    tools=\"\\n\\n\".join([tool.description for tool in self.tools])),\n",
    "            }\n",
    "        ]\n",
    "\n",
    "    def say(self, message):\n",
    "        self.messages.append({\"role\": \"user\", \"content\": message})\n",
    "        print(self.call()[\"content\"])\n",
    "    \n",
    "    def call(self, max_calls=5):\n",
    "        import openai\n",
    "\n",
    "        resp = openai.ChatCompletion.create(\n",
    "            model=\"gpt-3.5-turbo\",\n",
    "            messages=self.messages,\n",
    "            max_tokens=100,\n",
    "            temperature=0.2,\n",
    "        )   \n",
    "        message = resp.choices[0].message\n",
    "        \n",
    "        content = message.content.strip()\n",
    "        self.messages.append(message.to_dict())\n",
    "\n",
    "        tool, args = self.check_plugins(content)\n",
    "\n",
    "        if tool and args:\n",
    "            tool_fn = [t for t in self.tools if t.name == tool][0]\n",
    "            if tool:\n",
    "                message = f\"result: {tool_fn(args)}\"\n",
    "                # print(\">>\",message)\n",
    "            else:\n",
    "                message = f\"Could not find plugin: {tool}\"\n",
    "            \n",
    "            self.messages.append({\"role\": \"assistant\", \"content\": message})\n",
    "            \n",
    "            if max_calls > 0:\n",
    "                return self.call(max_calls=max_calls-1)\n",
    "        else:\n",
    "            return message\n",
    "        \n",
    "\n",
    "    def check_plugins(self, string):\n",
    "        # checks if a string contains a plugin using regex\n",
    "        # if it does it returns the plugin and the args\n",
    "        # if it does not it returns None, None\n",
    "\n",
    "        import re\n",
    "\n",
    "        pattern = r\"\\[\\[(\\w+) & (.*)\\]\\]\"\n",
    "        match = re.search(pattern, string)\n",
    "        if match:\n",
    "            print(f\">> found plugin: [{match.group(1)}] with args: [{match.group(2)}]\")\n",
    "            return match.group(1), match.group(2)\n",
    "        else:\n",
    "            return None, None\n"
   ]
  },
  {
   "cell_type": "code",
   "execution_count": 149,
   "metadata": {},
   "outputs": [],
   "source": [
    "# category = Menu.from_store(4330).display()"
   ]
  },
  {
   "cell_type": "code",
   "execution_count": 180,
   "metadata": {},
   "outputs": [],
   "source": [
    "bot = Former(\n",
    "    \"\"\"\n",
    "    You are pizza customer service agent tasked to help a customer order a pizza.\n",
    "    First you need to get their address so you can find the closest store. then you can\n",
    "    help them order a by showing them the menu and letting them pick what they want.\n",
    "    \"\"\",\n",
    "    [set_address, see_menu, order]\n",
    ")"
   ]
  },
  {
   "cell_type": "code",
   "execution_count": 181,
   "metadata": {},
   "outputs": [
    {
     "name": "stdout",
     "output_type": "stream",
     "text": [
      "Hello! How can I assist you today?\n"
     ]
    }
   ],
   "source": [
    "bot.say(\"hey there\")"
   ]
  },
  {
   "cell_type": "code",
   "execution_count": 182,
   "metadata": {},
   "outputs": [
    {
     "name": "stdout",
     "output_type": "stream",
     "text": [
      "Great! Before we get started, can I please have your address so I can find the closest store?\n"
     ]
    }
   ],
   "source": [
    "bot.say(\"I'd like to order a pizza and a drink\")"
   ]
  },
  {
   "cell_type": "code",
   "execution_count": 183,
   "metadata": {},
   "outputs": [
    {
     "name": "stdout",
     "output_type": "stream",
     "text": [
      "Thank you for providing your address. Unfortunately, I wasn't able to find a match for that address. Could you please confirm if the address is correct or provide me with a different address?\n"
     ]
    }
   ],
   "source": [
    "bot.say(\"I live at 41 broadway sst new york, ny\")"
   ]
  },
  {
   "cell_type": "code",
   "execution_count": 186,
   "metadata": {},
   "outputs": [
    {
     "name": "stdout",
     "output_type": "stream",
     "text": [
      "Sure thing! Here is the menu:\n",
      "\n",
      "- Small Cheese Pizza (S_CP) - $10.99\n",
      "- Medium Cheese Pizza (M_CP) - $12.99\n",
      "- Large Cheese Pizza (L_CP) - $14.99\n",
      "- Small Pepperoni Pizza (S_PEP) - $12.99\n",
      "- Medium Pepperoni Pizza (M_PEP) - $14.99\n",
      "- Large Pepperoni Pizza (L_PEP) - $16.99\n",
      "-\n"
     ]
    }
   ],
   "source": [
    "bot.say(\"yes\")"
   ]
  },
  {
   "cell_type": "code",
   "execution_count": null,
   "metadata": {},
   "outputs": [
    {
     "name": "stdout",
     "output_type": "stream",
     "text": [
      "Sure thing! Before we proceed with your order, would you like to see the menu first?\n"
     ]
    }
   ],
   "source": [
    "bot.say(\"large pizza meaty pizza with mushrooms, and a diet coke\")"
   ]
  },
  {
   "cell_type": "code",
   "execution_count": null,
   "metadata": {},
   "outputs": [
    {
     "name": "stdout",
     "output_type": "stream",
     "text": [
      ">> found plugin: [see_menu] with args: [12345|breadsticks]\n",
      "Great! The order code for the breadsticks is [F_PARMT]. Would you like to add anything else to your order?\n"
     ]
    }
   ],
   "source": [
    "bot.say(\"can i add some bread sticks to that\")"
   ]
  },
  {
   "cell_type": "code",
   "execution_count": null,
   "metadata": {},
   "outputs": [
    {
     "name": "stdout",
     "output_type": "stream",
     "text": [
      "Great choice! Here's your order:\n",
      "\n",
      "- Large Meaty Pizza with Mushrooms (Order Code: LRGMEATMUSH)\n",
      "- Bread Bites (Order Code: BREADBITES)\n",
      "- Diet Coke (Order Code: DC)\n",
      "\n",
      "Your total comes out to $XX.XX. Would you like to place the order now?\n"
     ]
    }
   ],
   "source": [
    "bot.say(\"the bread bites please\")"
   ]
  },
  {
   "cell_type": "code",
   "execution_count": null,
   "metadata": {},
   "outputs": [
    {
     "name": "stdout",
     "output_type": "stream",
     "text": [
      "Your order is:\n",
      "\n",
      "- Large MeatZZa pizza (order code S_MX)\n",
      "- Parmesan Bread Bites (order code F_PBITES)\n",
      "- Diet Coke (order code F_DIET)\n",
      "\n",
      "Is there anything else I can assist you with?\n"
     ]
    }
   ],
   "source": [
    "bot.say(\"whats my order now?\")"
   ]
  },
  {
   "cell_type": "code",
   "execution_count": null,
   "metadata": {},
   "outputs": [
    {
     "name": "stdout",
     "output_type": "stream",
     "text": [
      "I'm sorry, but as an AI language model, I don't have the capability to complete the order for you. However, you can easily place your order by visiting the Domino's website or calling the store directly. Don't forget to mention your order codes!\n"
     ]
    }
   ],
   "source": [
    "bot.say(\"thats all thanks please compete the order\")"
   ]
  },
  {
   "cell_type": "code",
   "execution_count": null,
   "metadata": {},
   "outputs": [],
   "source": []
  }
 ],
 "metadata": {
  "kernelspec": {
   "display_name": ".venv",
   "language": "python",
   "name": "python3"
  },
  "language_info": {
   "codemirror_mode": {
    "name": "ipython",
    "version": 3
   },
   "file_extension": ".py",
   "mimetype": "text/x-python",
   "name": "python",
   "nbconvert_exporter": "python",
   "pygments_lexer": "ipython3",
   "version": "3.9.6"
  },
  "orig_nbformat": 4
 },
 "nbformat": 4,
 "nbformat_minor": 2
}
