{
 "cells": [
  {
   "cell_type": "code",
   "execution_count": 1,
   "metadata": {},
   "outputs": [],
   "source": [
    "import json"
   ]
  },
  {
   "cell_type": "code",
   "execution_count": 2,
   "metadata": {},
   "outputs": [],
   "source": [
    "with open(\"tailwind.json\") as f:\n",
    "    data = json.load(f)\n"
   ]
  },
  {
   "cell_type": "code",
   "execution_count": 13,
   "metadata": {},
   "outputs": [],
   "source": [
    "with open(\"finetune.jsonlines\", \"w\") as f:\n",
    "    for d in data:\n",
    "        request = d[\"desc\"]\n",
    "        html = d[\"html\"]\n",
    "        resp = {\n",
    "            \"prompt\": f\"Create or update tailwind css component based on the request\\nCurrent HTML:\\n\\n <div></div>\\n\\nRequest: {request}\",\n",
    "            \"completion\": html,\n",
    "        }\n",
    "        f.write(json.dumps(resp) + \"\\n\")"
   ]
  },
  {
   "cell_type": "code",
   "execution_count": null,
   "metadata": {},
   "outputs": [],
   "source": []
  }
 ],
 "metadata": {
  "kernelspec": {
   "display_name": "app",
   "language": "python",
   "name": "python3"
  },
  "language_info": {
   "codemirror_mode": {
    "name": "ipython",
    "version": 3
   },
   "file_extension": ".py",
   "mimetype": "text/x-python",
   "name": "python",
   "nbconvert_exporter": "python",
   "pygments_lexer": "ipython3",
   "version": "3.9.6"
  },
  "orig_nbformat": 4,
  "vscode": {
   "interpreter": {
    "hash": "c9e2c0b6c068ac97e72ec141f6e211b3e64410875cb7120c6c6c800e1b4fa7f9"
   }
  }
 },
 "nbformat": 4,
 "nbformat_minor": 2
}
