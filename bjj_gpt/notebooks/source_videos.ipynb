{
 "cells": [
  {
   "cell_type": "code",
   "execution_count": 3,
   "metadata": {},
   "outputs": [],
   "source": [
    "import youtube_dl"
   ]
  },
  {
   "cell_type": "code",
   "execution_count": null,
   "metadata": {},
   "outputs": [],
   "source": []
  },
  {
   "cell_type": "code",
   "execution_count": null,
   "metadata": {},
   "outputs": [],
   "source": [
    "https://www.bilibili.com/video/BV1sW4y187np/?spm_id_from=333.999.0.0 # danaher new wave \n",
    "https://www.bilibili.com/video/BV1Me4y1J7EL/?spm_id_from=333.999.0.0 # gordan all\n",
    "https://www.bilibili.com/video/BV1Z8411g75C/?spm_id_from=333.337.search-card.all.click # gordon leg locks\n",
    "https://www.bilibili.com/video/BV1yt4y1H72r/?spm_id_from=333.337.search-card.all.click # danager enter the system \n",
    "https://www.bilibili.com/video/BV15B4y1H7Qi?p=1 # power series (done)"
   ]
  },
  {
   "cell_type": "code",
   "execution_count": 24,
   "metadata": {},
   "outputs": [
    {
     "name": "stdout",
     "output_type": "stream",
     "text": [
      "\u001b[1m\u001b[36mdata\u001b[m\u001b[m/                    doc_loader.ipynb         \u001b[1m\u001b[36mleglocks.faiss\u001b[m\u001b[m/\n",
      "doc_loader copy.ipynb    \u001b[1m\u001b[36mescapes-pins.faiss\u001b[m\u001b[m/      \u001b[1m\u001b[36mpassing_halfguard.faiss\u001b[m\u001b[m/\n"
     ]
    }
   ],
   "source": [
    "ls"
   ]
  },
  {
   "cell_type": "code",
   "execution_count": 29,
   "metadata": {},
   "outputs": [
    {
     "name": "stdout",
     "output_type": "stream",
     "text": [
      "【柔术】CJ Craig Jones Power 系列 (P1. PowerRide-ANewPhilosophyonPinningbyCraigJones1).mp4\n",
      "【柔术】CJ Craig Jones Power 系列 (P10. PowerTopbyCraigJones4.mp4).mp4\n",
      "【柔术】CJ Craig Jones Power 系列 (P11. PowerTopbyCraigJones5.mp4).mp4\n",
      "【柔术】CJ Craig Jones Power 系列 (P12. PowerTopbyCraigJones6.mp4).mp4\n",
      "【柔术】CJ Craig Jones Power 系列 (P13. PowerBottombyCraigJones1).mp4\n",
      "【柔术】CJ Craig Jones Power 系列 (P14. PowerBottombyCraigJones2).mp4\n",
      "【柔术】CJ Craig Jones Power 系列 (P15. PowerBottombyCraigJones3).mp4\n",
      "【柔术】CJ Craig Jones Power 系列 (P16. PowerBottombyCraigJones4).mp4\n",
      "【柔术】CJ Craig Jones Power 系列 (P17. PowerBottombyCraigJones5).mp4\n",
      "【柔术】CJ Craig Jones Power 系列 (P18. PowerBottombyCraigJones6).mp4\n",
      "【柔术】CJ Craig Jones Power 系列 (P2. PowerRide-ANewPhilosophyonPinningbyCraigJones2).mp4\n",
      "【柔术】CJ Craig Jones Power 系列 (P3. PowerRide-ANewPhilosophyonPinningbyCraigJones3).mp4\n",
      "【柔术】CJ Craig Jones Power 系列 (P4. PowerRide-ANewPhilosophyonPinningbyCraigJones4).mp4\n",
      "【柔术】CJ Craig Jones Power 系列 (P5. PowerRide-ANewPhilosophyonPinningbyCraigJones5).mp4\n",
      "【柔术】CJ Craig Jones Power 系列 (P6. PowerRide-ANewPhilosophyonPinningbyCraigJones6).mp4\n",
      "【柔术】CJ Craig Jones Power 系列 (P7. PowerTopbyCraigJones1.mp4).mp4\n",
      "【柔术】CJ Craig Jones Power 系列 (P8. PowerTopbyCraigJones2.mp4).mp4\n",
      "【柔术】CJ Craig Jones Power 系列 (P9. PowerTopbyCraigJones3.mp4).mp4\n"
     ]
    }
   ],
   "source": [
    "!ls ../data/craig"
   ]
  },
  {
   "cell_type": "code",
   "execution_count": 44,
   "metadata": {},
   "outputs": [],
   "source": [
    "# rename all the craig jones files to within ()\n",
    "import os \n",
    "import re\n",
    "\n",
    "pth = \"../data/entersystem/\"\n",
    "\n",
    "for file in os.listdir(pth):\n",
    "    new_file = file.split(\"(\")[1].split(\")\")[0].split(\" \", 1)[-1].split(\".\")[0] + \".mp4\"\n",
    "    os.rename(\n",
    "        os.path.join(pth, file),\n",
    "        os.path.join(pth, new_file)\n",
    "    )"
   ]
  },
  {
   "cell_type": "code",
   "execution_count": null,
   "metadata": {},
   "outputs": [],
   "source": []
  }
 ],
 "metadata": {
  "kernelspec": {
   "display_name": ".venv",
   "language": "python",
   "name": "python3"
  },
  "language_info": {
   "codemirror_mode": {
    "name": "ipython",
    "version": 3
   },
   "file_extension": ".py",
   "mimetype": "text/x-python",
   "name": "python",
   "nbconvert_exporter": "python",
   "pygments_lexer": "ipython3",
   "version": "3.9.6"
  },
  "orig_nbformat": 4,
  "vscode": {
   "interpreter": {
    "hash": "06f81ccb4ab27e8674b52b4457a394d09986420a0f17817765755d8e7dd76a47"
   }
  }
 },
 "nbformat": 4,
 "nbformat_minor": 2
}
