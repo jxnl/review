{
 "cells": [
  {
   "cell_type": "code",
   "execution_count": null,
   "metadata": {},
   "outputs": [],
   "source": [
    "async "
   ]
  }
 ],
 "metadata": {
  "kernelspec": {
   "display_name": ".venv",
   "language": "python",
   "name": "python3"
  },
  "language_info": {
   "name": "python",
   "version": "3.9.6"
  },
  "orig_nbformat": 4,
  "vscode": {
   "interpreter": {
    "hash": "06f81ccb4ab27e8674b52b4457a394d09986420a0f17817765755d8e7dd76a47"
   }
  }
 },
 "nbformat": 4,
 "nbformat_minor": 2
}
